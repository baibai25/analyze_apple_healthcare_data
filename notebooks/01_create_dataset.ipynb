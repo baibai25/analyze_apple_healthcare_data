{
 "cells": [
  {
   "cell_type": "code",
   "execution_count": 1,
   "metadata": {},
   "outputs": [],
   "source": [
    "import json\n",
    "import xml.etree.ElementTree as ET\n",
    "\n",
    "import pandas as pd\n"
   ]
  },
  {
   "cell_type": "code",
   "execution_count": 2,
   "metadata": {},
   "outputs": [],
   "source": [
    "# XMLファイルを読み込み、解析\n",
    "tree = ET.parse(\"../data/apple_health_export/export.xml\")\n",
    "root = tree.getroot()\n",
    "\n",
    "# すべてのRecord要素を取得\n",
    "records = root.findall(\"Record\")\n",
    "\n",
    "# 各Record要素を抽出しデータフレーム化\n",
    "data = [record.attrib for record in records]\n",
    "health_df = pd.DataFrame(data)\n"
   ]
  },
  {
   "cell_type": "code",
   "execution_count": 3,
   "metadata": {},
   "outputs": [
    {
     "data": {
      "text/html": [
       "<div>\n",
       "<style scoped>\n",
       "    .dataframe tbody tr th:only-of-type {\n",
       "        vertical-align: middle;\n",
       "    }\n",
       "\n",
       "    .dataframe tbody tr th {\n",
       "        vertical-align: top;\n",
       "    }\n",
       "\n",
       "    .dataframe thead th {\n",
       "        text-align: right;\n",
       "    }\n",
       "</style>\n",
       "<table border=\"1\" class=\"dataframe\">\n",
       "  <thead>\n",
       "    <tr style=\"text-align: right;\">\n",
       "      <th></th>\n",
       "      <th>type</th>\n",
       "      <th>sourceName</th>\n",
       "      <th>sourceVersion</th>\n",
       "      <th>unit</th>\n",
       "      <th>creationDate</th>\n",
       "      <th>startDate</th>\n",
       "      <th>endDate</th>\n",
       "      <th>value</th>\n",
       "      <th>device</th>\n",
       "    </tr>\n",
       "  </thead>\n",
       "  <tbody>\n",
       "    <tr>\n",
       "      <th>0</th>\n",
       "      <td>HKQuantityTypeIdentifierDietaryWater</td>\n",
       "      <td>Water Reminder</td>\n",
       "      <td>1.7.28</td>\n",
       "      <td>mL</td>\n",
       "      <td>2021-08-27 23:25:27 +0900</td>\n",
       "      <td>2021-08-27 23:25:27 +0900</td>\n",
       "      <td>2021-08-27 23:25:27 +0900</td>\n",
       "      <td>40</td>\n",
       "      <td>NaN</td>\n",
       "    </tr>\n",
       "    <tr>\n",
       "      <th>1</th>\n",
       "      <td>HKQuantityTypeIdentifierBodyMassIndex</td>\n",
       "      <td>omron connect</td>\n",
       "      <td>006.009.00001.001</td>\n",
       "      <td>count</td>\n",
       "      <td>2021-12-09 11:42:09 +0900</td>\n",
       "      <td>2021-12-09 11:05:36 +0900</td>\n",
       "      <td>2021-12-09 11:05:36 +0900</td>\n",
       "      <td>21.1</td>\n",
       "      <td>NaN</td>\n",
       "    </tr>\n",
       "    <tr>\n",
       "      <th>2</th>\n",
       "      <td>HKQuantityTypeIdentifierBodyMassIndex</td>\n",
       "      <td>omron connect</td>\n",
       "      <td>006.009.00001.001</td>\n",
       "      <td>count</td>\n",
       "      <td>2021-12-09 22:52:33 +0900</td>\n",
       "      <td>2021-12-09 22:47:16 +0900</td>\n",
       "      <td>2021-12-09 22:47:16 +0900</td>\n",
       "      <td>20.2</td>\n",
       "      <td>NaN</td>\n",
       "    </tr>\n",
       "    <tr>\n",
       "      <th>3</th>\n",
       "      <td>HKQuantityTypeIdentifierBodyMassIndex</td>\n",
       "      <td>omron connect</td>\n",
       "      <td>006.009.00001.001</td>\n",
       "      <td>count</td>\n",
       "      <td>2021-12-10 07:42:08 +0900</td>\n",
       "      <td>2021-12-10 07:39:57 +0900</td>\n",
       "      <td>2021-12-10 07:39:57 +0900</td>\n",
       "      <td>20.3</td>\n",
       "      <td>NaN</td>\n",
       "    </tr>\n",
       "    <tr>\n",
       "      <th>4</th>\n",
       "      <td>HKQuantityTypeIdentifierBodyMassIndex</td>\n",
       "      <td>omron connect</td>\n",
       "      <td>006.009.00001.001</td>\n",
       "      <td>count</td>\n",
       "      <td>2021-12-11 12:54:25 +0900</td>\n",
       "      <td>2021-12-11 01:06:30 +0900</td>\n",
       "      <td>2021-12-11 01:06:30 +0900</td>\n",
       "      <td>20.5</td>\n",
       "      <td>NaN</td>\n",
       "    </tr>\n",
       "  </tbody>\n",
       "</table>\n",
       "</div>"
      ],
      "text/plain": [
       "                                    type      sourceName      sourceVersion  \\\n",
       "0   HKQuantityTypeIdentifierDietaryWater  Water Reminder             1.7.28   \n",
       "1  HKQuantityTypeIdentifierBodyMassIndex   omron connect  006.009.00001.001   \n",
       "2  HKQuantityTypeIdentifierBodyMassIndex   omron connect  006.009.00001.001   \n",
       "3  HKQuantityTypeIdentifierBodyMassIndex   omron connect  006.009.00001.001   \n",
       "4  HKQuantityTypeIdentifierBodyMassIndex   omron connect  006.009.00001.001   \n",
       "\n",
       "    unit               creationDate                  startDate  \\\n",
       "0     mL  2021-08-27 23:25:27 +0900  2021-08-27 23:25:27 +0900   \n",
       "1  count  2021-12-09 11:42:09 +0900  2021-12-09 11:05:36 +0900   \n",
       "2  count  2021-12-09 22:52:33 +0900  2021-12-09 22:47:16 +0900   \n",
       "3  count  2021-12-10 07:42:08 +0900  2021-12-10 07:39:57 +0900   \n",
       "4  count  2021-12-11 12:54:25 +0900  2021-12-11 01:06:30 +0900   \n",
       "\n",
       "                     endDate value device  \n",
       "0  2021-08-27 23:25:27 +0900    40    NaN  \n",
       "1  2021-12-09 11:05:36 +0900  21.1    NaN  \n",
       "2  2021-12-09 22:47:16 +0900  20.2    NaN  \n",
       "3  2021-12-10 07:39:57 +0900  20.3    NaN  \n",
       "4  2021-12-11 01:06:30 +0900  20.5    NaN  "
      ]
     },
     "execution_count": 3,
     "metadata": {},
     "output_type": "execute_result"
    }
   ],
   "source": [
    "health_df.head()"
   ]
  },
  {
   "cell_type": "code",
   "execution_count": 4,
   "metadata": {},
   "outputs": [
    {
     "data": {
      "text/plain": [
       "(1800451, 9)"
      ]
     },
     "execution_count": 4,
     "metadata": {},
     "output_type": "execute_result"
    }
   ],
   "source": [
    "health_df.shape"
   ]
  },
  {
   "cell_type": "code",
   "execution_count": 5,
   "metadata": {},
   "outputs": [],
   "source": [
    "# 個人情報を削除\n",
    "health_df = health_df.drop([\"sourceVersion\", \"device\"], axis=1)\n",
    "\n",
    "\"\"\"replace_dict.json\n",
    "{\n",
    "    \"replace_dict\":{\n",
    "        \"リプレイスしたい文字\": \"リプレイス後の文字\",\n",
    "    }\n",
    "}\n",
    "\n",
    "\"\"\"\n",
    "with open(\"../data/replace_dict.json\", \"r\") as f:\n",
    "    replace_dict = json.load(f)\n",
    "\n",
    "health_df[\"sourceName\"] = health_df[\"sourceName\"].replace(replace_dict[\"replace_dict\"], regex=True)"
   ]
  },
  {
   "cell_type": "code",
   "execution_count": 6,
   "metadata": {},
   "outputs": [],
   "source": [
    "# お昼寝とStreaksで立てているも目標がバレるので削除\n",
    "remove_source = [\"AutoSleep\", \"Streaks\"]\n",
    "health_df = health_df[~health_df[\"sourceName\"].isin(remove_source)]"
   ]
  },
  {
   "cell_type": "code",
   "execution_count": 7,
   "metadata": {},
   "outputs": [],
   "source": [
    "# データ期間を絞る\n",
    "start_date = \"2022-01-01\"\n",
    "health_df = (\n",
    "    health_df[health_df[\"creationDate\"] >= start_date]\n",
    "    .sort_values([\"creationDate\", \"type\"], ascending=[True, True])\n",
    "    .reset_index(drop=True)\n",
    ")"
   ]
  },
  {
   "cell_type": "code",
   "execution_count": 8,
   "metadata": {},
   "outputs": [
    {
     "data": {
      "text/html": [
       "<div>\n",
       "<style scoped>\n",
       "    .dataframe tbody tr th:only-of-type {\n",
       "        vertical-align: middle;\n",
       "    }\n",
       "\n",
       "    .dataframe tbody tr th {\n",
       "        vertical-align: top;\n",
       "    }\n",
       "\n",
       "    .dataframe thead th {\n",
       "        text-align: right;\n",
       "    }\n",
       "</style>\n",
       "<table border=\"1\" class=\"dataframe\">\n",
       "  <thead>\n",
       "    <tr style=\"text-align: right;\">\n",
       "      <th></th>\n",
       "      <th>type</th>\n",
       "      <th>sourceName</th>\n",
       "      <th>unit</th>\n",
       "      <th>creationDate</th>\n",
       "      <th>startDate</th>\n",
       "      <th>endDate</th>\n",
       "      <th>value</th>\n",
       "    </tr>\n",
       "  </thead>\n",
       "  <tbody>\n",
       "    <tr>\n",
       "      <th>0</th>\n",
       "      <td>HKQuantityTypeIdentifierActiveEnergyBurned</td>\n",
       "      <td>Apple Watch</td>\n",
       "      <td>kcal</td>\n",
       "      <td>2022-01-01 00:00:03 +0900</td>\n",
       "      <td>2021-12-31 23:53:45 +0900</td>\n",
       "      <td>2021-12-31 23:54:46 +0900</td>\n",
       "      <td>0.172</td>\n",
       "    </tr>\n",
       "    <tr>\n",
       "      <th>1</th>\n",
       "      <td>HKQuantityTypeIdentifierActiveEnergyBurned</td>\n",
       "      <td>Apple Watch</td>\n",
       "      <td>kcal</td>\n",
       "      <td>2022-01-01 00:00:03 +0900</td>\n",
       "      <td>2021-12-31 23:54:57 +0900</td>\n",
       "      <td>2021-12-31 23:55:48 +0900</td>\n",
       "      <td>0.239</td>\n",
       "    </tr>\n",
       "    <tr>\n",
       "      <th>2</th>\n",
       "      <td>HKQuantityTypeIdentifierActiveEnergyBurned</td>\n",
       "      <td>Apple Watch</td>\n",
       "      <td>kcal</td>\n",
       "      <td>2022-01-01 00:00:03 +0900</td>\n",
       "      <td>2021-12-31 23:55:58 +0900</td>\n",
       "      <td>2021-12-31 23:57:00 +0900</td>\n",
       "      <td>0.188</td>\n",
       "    </tr>\n",
       "    <tr>\n",
       "      <th>3</th>\n",
       "      <td>HKQuantityTypeIdentifierActiveEnergyBurned</td>\n",
       "      <td>Apple Watch</td>\n",
       "      <td>kcal</td>\n",
       "      <td>2022-01-01 00:00:03 +0900</td>\n",
       "      <td>2021-12-31 23:57:00 +0900</td>\n",
       "      <td>2021-12-31 23:57:10 +0900</td>\n",
       "      <td>0.067</td>\n",
       "    </tr>\n",
       "    <tr>\n",
       "      <th>4</th>\n",
       "      <td>HKQuantityTypeIdentifierHeartRate</td>\n",
       "      <td>Apple Watch</td>\n",
       "      <td>count/min</td>\n",
       "      <td>2022-01-01 00:00:03 +0900</td>\n",
       "      <td>2021-12-31 23:57:35 +0900</td>\n",
       "      <td>2021-12-31 23:57:35 +0900</td>\n",
       "      <td>79</td>\n",
       "    </tr>\n",
       "  </tbody>\n",
       "</table>\n",
       "</div>"
      ],
      "text/plain": [
       "                                         type   sourceName       unit  \\\n",
       "0  HKQuantityTypeIdentifierActiveEnergyBurned  Apple Watch       kcal   \n",
       "1  HKQuantityTypeIdentifierActiveEnergyBurned  Apple Watch       kcal   \n",
       "2  HKQuantityTypeIdentifierActiveEnergyBurned  Apple Watch       kcal   \n",
       "3  HKQuantityTypeIdentifierActiveEnergyBurned  Apple Watch       kcal   \n",
       "4           HKQuantityTypeIdentifierHeartRate  Apple Watch  count/min   \n",
       "\n",
       "                creationDate                  startDate  \\\n",
       "0  2022-01-01 00:00:03 +0900  2021-12-31 23:53:45 +0900   \n",
       "1  2022-01-01 00:00:03 +0900  2021-12-31 23:54:57 +0900   \n",
       "2  2022-01-01 00:00:03 +0900  2021-12-31 23:55:58 +0900   \n",
       "3  2022-01-01 00:00:03 +0900  2021-12-31 23:57:00 +0900   \n",
       "4  2022-01-01 00:00:03 +0900  2021-12-31 23:57:35 +0900   \n",
       "\n",
       "                     endDate  value  \n",
       "0  2021-12-31 23:54:46 +0900  0.172  \n",
       "1  2021-12-31 23:55:48 +0900  0.239  \n",
       "2  2021-12-31 23:57:00 +0900  0.188  \n",
       "3  2021-12-31 23:57:10 +0900  0.067  \n",
       "4  2021-12-31 23:57:35 +0900     79  "
      ]
     },
     "execution_count": 8,
     "metadata": {},
     "output_type": "execute_result"
    }
   ],
   "source": [
    "health_df.head()"
   ]
  },
  {
   "cell_type": "code",
   "execution_count": 9,
   "metadata": {},
   "outputs": [
    {
     "data": {
      "text/plain": [
       "(1552977, 7)"
      ]
     },
     "execution_count": 9,
     "metadata": {},
     "output_type": "execute_result"
    }
   ],
   "source": [
    "health_df.shape"
   ]
  },
  {
   "cell_type": "code",
   "execution_count": 10,
   "metadata": {},
   "outputs": [],
   "source": [
    "health_df.to_csv(\"../data/dataset.csv\", index=False)"
   ]
  },
  {
   "cell_type": "code",
   "execution_count": null,
   "metadata": {},
   "outputs": [],
   "source": []
  }
 ],
 "metadata": {
  "kernelspec": {
   "display_name": ".venv",
   "language": "python",
   "name": "python3"
  },
  "language_info": {
   "codemirror_mode": {
    "name": "ipython",
    "version": 3
   },
   "file_extension": ".py",
   "mimetype": "text/x-python",
   "name": "python",
   "nbconvert_exporter": "python",
   "pygments_lexer": "ipython3",
   "version": "3.11.3"
  }
 },
 "nbformat": 4,
 "nbformat_minor": 2
}
